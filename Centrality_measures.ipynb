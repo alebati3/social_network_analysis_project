{
 "cells": [
  {
   "cell_type": "code",
   "execution_count": 2,
   "id": "014ff077",
   "metadata": {},
   "outputs": [],
   "source": [
    "# import the library.\n",
    "import networkx as nx\n",
    "import warnings\n",
    "import numpy as np\n",
    "import random\n",
    "import matplotlib.pyplot as plt\n",
    "import matplotlib.colors as mcolors\n",
    "import csv\n",
    "warnings.filterwarnings('ignore')"
   ]
  },
  {
   "cell_type": "markdown",
   "id": "629e30a3",
   "metadata": {},
   "source": [
    "# Centrality measures"
   ]
  },
  {
   "cell_type": "markdown",
   "id": "d4ac2225",
   "metadata": {},
   "source": [
    "Function to read the graph from a file csv"
   ]
  },
  {
   "cell_type": "code",
   "execution_count": 3,
   "id": "2a41890c",
   "metadata": {},
   "outputs": [],
   "source": [
    "#function to read the network (l[0]-> edge, l[1]-> time)\n",
    "def read_net(filename):\n",
    "    g = nx.Graph()\n",
    "    with open(filename) as f:\n",
    "        f=csv.reader(f)\n",
    "        for l in f:\n",
    "            g.add_edge(l[0], l[1])\n",
    "    return g"
   ]
  },
  {
   "cell_type": "code",
   "execution_count": 4,
   "id": "12139bc4",
   "metadata": {},
   "outputs": [
    {
     "name": "stdout",
     "output_type": "stream",
     "text": [
      "number of nodes 35386\n",
      "number of edges 244429\n"
     ]
    }
   ],
   "source": [
    "#read the network\n",
    "g = read_net(r\"C:\\Users\\ludoi\\OneDrive\\Desktop\\sna-2023-2023_batignani_fattorini_iannello\\data_collection\\conspiracy_2m_final.csv\")\n",
    "\n",
    "#remove the bot\n",
    "g.remove_node(\"rConBot\")\n",
    "#remove the selfloops\n",
    "g.remove_edges_from(nx.selfloop_edges(g))\n",
    "#remove isolated nodes\n",
    "g.remove_nodes_from(list(nx.isolates(g)))\n",
    "\n",
    "#number of nodes\n",
    "N_nodes=g.number_of_nodes()\n",
    "print(\"number of nodes\",N_nodes)\n",
    "#number of edges\n",
    "N_edges=g.number_of_edges()\n",
    "print(\"number of edges\",N_edges)\n",
    "\n",
    "comps = list(nx.connected_components(g))\n",
    "g=g.subgraph(comps[0])"
   ]
  },
  {
   "cell_type": "markdown",
   "id": "19bef0b3",
   "metadata": {},
   "source": [
    "Print on a file txt the centrality measures (five highest values) "
   ]
  },
  {
   "cell_type": "code",
   "execution_count": null,
   "id": "f5d2263e",
   "metadata": {},
   "outputs": [],
   "source": [
    "with open ('centrality.txt','w') as f:\n",
    "\n",
    "    ##Degree centrality\n",
    "    # compute the degree of a set of nodes\n",
    "    degrees = dict(g.degree())\n",
    "    ranks = [(k, v) for k, v in sorted(degrees.items(), key=lambda item: -item[1])]\n",
    "    print('Degree',ranks[0:5])\n",
    "    f.write('Degree \\n')\n",
    "    f.write(str(ranks[0:5]))\n",
    "\n",
    "    ##Closeness Centrality\n",
    "    # compute the closeness centraliry of all nodes\n",
    "    closeness = nx.closeness_centrality(g)\n",
    "    ranks = [(k, v) for k, v in sorted(closeness.items(), key=lambda item: -item[1])]\n",
    "    print('closeness',ranks[0:5])\n",
    "    f.write('closeness\\n')\n",
    "    f.write(str(ranks[0:5]))\n",
    "\n",
    "    ##Betweenness Centrality\n",
    "    # compute the betweenness centraliry of all nodes\n",
    "    betweenness = nx.betweenness_centrality(g)\n",
    "    ranks = [(k, v) for k, v in sorted(betweenness.items(), key=lambda item: -item[1])]\n",
    "    print('betweenness',ranks[0:5])\n",
    "    f.write('betweennes\\n')\n",
    "    f.write(str(ranks[0:5]))\n",
    "\n",
    "\n",
    "    ##PageRank\n",
    "    pagerank = nx.pagerank(g)\n",
    "    ranks = [(k, v) for k, v in sorted(pagerank.items(), key=lambda item: -item[1])]\n",
    "    print('Pagerank',ranks[0:5])\n",
    "    f.write('Pagerank\\n')\n",
    "    f.write(str(ranks[0:5]))\n",
    "\n",
    "    ##Eigenvector Centrality\n",
    "    eigen = nx.eigenvector_centrality(g)\n",
    "    ranks = [(k, v) for k, v in sorted(eigen.items(), key=lambda item: -item[1])]\n",
    "    print('Eigenvector',ranks[0:5])\n",
    "    f.write('Eigenvector\\n')\n",
    "    f.write(str(ranks[0:5]))\n",
    "    "
   ]
  }
 ],
 "metadata": {
  "kernelspec": {
   "display_name": "Python 3 (ipykernel)",
   "language": "python",
   "name": "python3"
  },
  "language_info": {
   "codemirror_mode": {
    "name": "ipython",
    "version": 3
   },
   "file_extension": ".py",
   "mimetype": "text/x-python",
   "name": "python",
   "nbconvert_exporter": "python",
   "pygments_lexer": "ipython3",
   "version": "3.8.17"
  }
 },
 "nbformat": 4,
 "nbformat_minor": 5
}
