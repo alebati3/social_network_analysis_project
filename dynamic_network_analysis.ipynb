{
 "cells": [
  {
   "cell_type": "code",
   "execution_count": null,
   "id": "f753ec6a",
   "metadata": {},
   "outputs": [],
   "source": [
    "# import the libraries.\n",
    "import networkx as nx\n",
    "import warnings\n",
    "import pandas as pd\n",
    "import numpy as np\n",
    "import matplotlib.pyplot as plt\n",
    "import matplotlib.colors as mcolors\n",
    "import powerlaw\n",
    "import seaborn as sns\n",
    "import random\n",
    "import datetime\n",
    "import csv\n",
    "import dynetx as dn\n",
    "from networkx.algorithms import approximation\n",
    "from tqdm import tqdm\n",
    "\n",
    "warnings.filterwarnings('ignore')"
   ]
  },
  {
   "cell_type": "code",
   "execution_count": null,
   "id": "0f35a6e6",
   "metadata": {},
   "outputs": [],
   "source": [
    "%%time\n",
    "# import the replies removing replies related to rConBot e self-replies\n",
    "\n",
    "n1_list=[] # author of the reply\n",
    "n2_list=[] # author of the comment/submission to which the response is addressed\n",
    "time_list=[] # time of the reply\n",
    "\n",
    "name_file=r\"C:\\Users\\Alessandro Batignani\\Desktop\\sna-2023-2023_batignani_fattorini_iannello\\data_collection\\conspiracy_2m_final_2.csv\"\n",
    "with open(name_file) as f:\n",
    "    f = csv.reader(f)\n",
    "    for l in f:\n",
    "        if l[0]!='rConBot' and l[1]!='rConBot' and l[0]!=l[1]: \n",
    "            n1_list.append(l[0])\n",
    "            n2_list.append(l[1])\n",
    "            time_list.append(round(int(l[2])/86400)) # to change the time scale: from seconds to days\n",
    "            "
   ]
  },
  {
   "cell_type": "code",
   "execution_count": null,
   "id": "15315abb",
   "metadata": {},
   "outputs": [],
   "source": [
    "# time rescaling\n",
    "supp_time = np.array(time_list) - min(time_list)*np.ones(len(time_list)) + 1\n",
    "time_list = list(supp_time)"
   ]
  },
  {
   "cell_type": "code",
   "execution_count": null,
   "id": "32df1736",
   "metadata": {},
   "outputs": [],
   "source": [
    "# globally we count 60 timestamps\n",
    "min(time_list), max(time_list)"
   ]
  },
  {
   "cell_type": "code",
   "execution_count": null,
   "id": "60bd6da4",
   "metadata": {},
   "outputs": [],
   "source": [
    "# coversion in pandas dataframe to order interactions as time increases\n",
    "\n",
    "d = {'node1': n1_list, 'node2': n2_list, 'timestamp': time_list}\n",
    "df = pd.DataFrame(data=d)"
   ]
  },
  {
   "cell_type": "code",
   "execution_count": null,
   "id": "243ec98b",
   "metadata": {},
   "outputs": [],
   "source": [
    "# creation of an ordered matrix according to timestamps\n",
    "\n",
    "reply_matrix = df.sort_values(by=['timestamp'], ascending=True).values"
   ]
  },
  {
   "cell_type": "code",
   "execution_count": null,
   "id": "5ee94495",
   "metadata": {},
   "outputs": [],
   "source": [
    "max_timestamp = max(reply_matrix[:,2])"
   ]
  },
  {
   "cell_type": "markdown",
   "id": "e4dd3ce3",
   "metadata": {},
   "source": [
    "**for the analysis we remove t=1 and t=60**"
   ]
  },
  {
   "cell_type": "markdown",
   "id": "365574c3",
   "metadata": {},
   "source": [
    "## Links as instantaneous interactions"
   ]
  },
  {
   "cell_type": "code",
   "execution_count": null,
   "id": "678778c2",
   "metadata": {},
   "outputs": [],
   "source": [
    "%%time\n",
    "\n",
    "g = dn.DynGraph(edge_removal=True) # empty undirected dynamic graph\n",
    "\n",
    "#insertion of instantaneous interactions between nodes\n",
    "for i in range(len(reply_matrix)):\n",
    "        g.add_interaction(u=reply_matrix[i][0], v=reply_matrix[i][1], t=int(reply_matrix[i][2]))"
   ]
  },
  {
   "cell_type": "markdown",
   "id": "ecb90b9f",
   "metadata": {},
   "source": [
    "### number of interactions for each timestamp"
   ]
  },
  {
   "cell_type": "code",
   "execution_count": null,
   "id": "06d4917a",
   "metadata": {},
   "outputs": [],
   "source": [
    "%%time\n",
    "\n",
    "edges_list = []\n",
    "\n",
    "for i in range(2, 60):\n",
    "    edges_list.append(g.number_of_interactions(t=i))"
   ]
  },
  {
   "cell_type": "code",
   "execution_count": null,
   "id": "f76503ad",
   "metadata": {},
   "outputs": [],
   "source": [
    "plt.errorbar(np.linspace(2, 59, 58), edges_list, linestyle='--', marker='o')\n",
    "plt.xlabel('timestamp', fontsize=13)\n",
    "plt.ylabel('number of interactions', fontsize=15)\n",
    "plt.tight_layout()\n",
    "#plt.savefig('number_interactions.png')\n",
    "plt.show()"
   ]
  },
  {
   "cell_type": "markdown",
   "id": "58187b83",
   "metadata": {},
   "source": [
    "### total interactions for each timestamp"
   ]
  },
  {
   "cell_type": "code",
   "execution_count": null,
   "id": "a8000294",
   "metadata": {},
   "outputs": [],
   "source": [
    "# (u,v,t),(u,v,t) are counted as 2  different interactions\n",
    "# (u,v,t),(v,u,t) are counted as 2  different interactions\n",
    "\n",
    "total_interaction_list = []\n",
    "\n",
    "for i in range(2, 60):\n",
    "    total_interaction_list.append(len(df[df['timestamp']==i]))"
   ]
  },
  {
   "cell_type": "code",
   "execution_count": null,
   "id": "b251015a",
   "metadata": {},
   "outputs": [],
   "source": [
    "plt.errorbar(np.linspace(2, 59, 58), total_interaction_list, linestyle='--', marker='o')\n",
    "plt.xlabel('timestamp', fontsize=13)\n",
    "plt.ylabel('total interactions', fontsize=15)\n",
    "plt.tight_layout()\n",
    "#plt.savefig('total_interactions.png')\n",
    "plt.show()"
   ]
  },
  {
   "cell_type": "markdown",
   "id": "3f57a01a",
   "metadata": {},
   "source": [
    "### nodes for each timestamp"
   ]
  },
  {
   "cell_type": "code",
   "execution_count": null,
   "id": "cca384b5",
   "metadata": {},
   "outputs": [],
   "source": [
    "%%time\n",
    "nodes_int = []\n",
    "\n",
    "for t in range(2, 60):\n",
    "    nodes_int.append(g.time_slice(t).number_of_nodes())"
   ]
  },
  {
   "cell_type": "code",
   "execution_count": null,
   "id": "eace9b2a",
   "metadata": {},
   "outputs": [],
   "source": [
    "plt.scatter(np.linspace(2, 59, 58), nodes_int)\n",
    "plt.xlabel('timestamp', fontsize=13)\n",
    "plt.ylabel('N', fontsize=17)\n",
    "plt.tight_layout()\n",
    "plt.show()"
   ]
  },
  {
   "cell_type": "markdown",
   "id": "62e4dd27",
   "metadata": {},
   "source": [
    "# Links as relations"
   ]
  },
  {
   "cell_type": "markdown",
   "id": "04148683",
   "metadata": {},
   "source": [
    "### graph construction"
   ]
  },
  {
   "cell_type": "code",
   "execution_count": null,
   "id": "437aebc7",
   "metadata": {},
   "outputs": [],
   "source": [
    "%%time\n",
    "\n",
    "G = dn.DynGraph(edge_removal=True) # empty undirected dynamic graph\n",
    "\n",
    "#inserimento delle interazioni tra nodi\n",
    "for i in range(len(reply_matrix)):\n",
    "        G.add_interaction(u=reply_matrix[i][0], v=reply_matrix[i][1], t=int(reply_matrix[i][2]), e=int(max_timestamp+1))"
   ]
  },
  {
   "cell_type": "markdown",
   "id": "8d1674bf",
   "metadata": {},
   "source": [
    "## nodes and edges analysis"
   ]
  },
  {
   "cell_type": "code",
   "execution_count": null,
   "id": "bdfc60bf",
   "metadata": {},
   "outputs": [],
   "source": [
    "tot_nodes = []\n",
    "tot_edges = []\n",
    "\n",
    "for t in tqdm(range(2, 60), desc =\"loop \"):\n",
    "    \n",
    "    supp = G.time_slice(t)\n",
    "    tot_nodes.append(supp.number_of_nodes())\n",
    "    tot_edges.append(supp.number_of_edges())\n",
    "    \n"
   ]
  },
  {
   "cell_type": "code",
   "execution_count": null,
   "id": "c616dc98",
   "metadata": {},
   "outputs": [],
   "source": [
    "# Plot of N \n",
    "\n",
    "plt.scatter(np.linspace(2, 59, 58), tot_nodes)\n",
    "plt.xlabel('timestamp', fontsize=13)\n",
    "plt.ylabel('N', fontsize=17)\n",
    "plt.tight_layout()\n",
    "#plt.savefig('N_relation.png')\n",
    "plt.show()"
   ]
  },
  {
   "cell_type": "code",
   "execution_count": null,
   "id": "72b41d8b",
   "metadata": {},
   "outputs": [],
   "source": [
    "# Plot of E\n",
    "\n",
    "plt.scatter(np.linspace(2, 59, 58), tot_edges)\n",
    "plt.xlabel('timestamp', fontsize=13)\n",
    "plt.ylabel('E', fontsize=17)\n",
    "plt.tight_layout()\n",
    "#plt.savefig('E_relation.png')\n",
    "plt.show()"
   ]
  },
  {
   "cell_type": "markdown",
   "id": "9874e48a",
   "metadata": {},
   "source": [
    "## average degree analysis"
   ]
  },
  {
   "cell_type": "code",
   "execution_count": null,
   "id": "4212e11b",
   "metadata": {},
   "outputs": [],
   "source": [
    "%%time\n",
    "\n",
    "K_avg = []\n",
    "\n",
    "for t in tqdm(range(2, 60), desc='loop'):\n",
    "\n",
    "    j=G.time_slice(t).degree()\n",
    "    k=sum(list(j.values()))/len(j)\n",
    "    K_avg.append(k)"
   ]
  },
  {
   "cell_type": "code",
   "execution_count": null,
   "id": "51af9fcf",
   "metadata": {},
   "outputs": [],
   "source": [
    "# Plot of of average degree <k>\n",
    "\n",
    "plt.scatter(np.linspace(2, 59, 58), K_avg)\n",
    "plt.xlabel('timestamp', fontsize=13)\n",
    "plt.ylabel(r'$ \\langle k \\rangle$ ', fontsize=17)\n",
    "plt.tight_layout()\n",
    "#plt.savefig('avg_degree_relation.png')\n",
    "plt.show()"
   ]
  },
  {
   "cell_type": "markdown",
   "id": "b8c5a5db",
   "metadata": {},
   "source": [
    "## density analysis"
   ]
  },
  {
   "cell_type": "code",
   "execution_count": null,
   "id": "7ba57b25",
   "metadata": {},
   "outputs": [],
   "source": [
    "%%time\n",
    "density_list = []\n",
    "for t in tqdm(range(2, 60), desc='loop'):\n",
    "\n",
    "    density_list.append(G.snapshot_density(t))"
   ]
  },
  {
   "cell_type": "code",
   "execution_count": null,
   "id": "988092f8",
   "metadata": {},
   "outputs": [],
   "source": [
    "# Plot of d \n",
    "plt.scatter(np.linspace(2, 59, 58), density_list)\n",
    "plt.xlabel('timestamp', fontsize=13)\n",
    "plt.ylabel('d', fontsize=17)\n",
    "plt.tight_layout()\n",
    "#plt.savefig('density_relation.png')\n",
    "plt.show()"
   ]
  },
  {
   "cell_type": "markdown",
   "id": "90f21643",
   "metadata": {},
   "source": [
    "## clustering coefficient analysis"
   ]
  },
  {
   "cell_type": "code",
   "execution_count": null,
   "id": "3a58dd6a",
   "metadata": {},
   "outputs": [],
   "source": [
    "%%time\n",
    "\n",
    "avg_clustering = []\n",
    "\n",
    "for t in tqdm(range(2, 60), desc='loop'):\n",
    "    \n",
    "    avg_clustering.append(nx.average_clustering(G.time_slice(t)))"
   ]
  },
  {
   "cell_type": "code",
   "execution_count": null,
   "id": "c2d3309e",
   "metadata": {},
   "outputs": [],
   "source": [
    "# Plot of <C> \n",
    "\n",
    "plt.scatter(np.linspace(2, 59, 58), avg_clustering)\n",
    "plt.xlabel('timestamp', fontsize=13)\n",
    "plt.ylabel(r'$\\langle C \\rangle$ ', fontsize=17)\n",
    "plt.tight_layout()\n",
    "#plt.savefig('avg_clustering_relation.png')\n",
    "plt.show()"
   ]
  },
  {
   "cell_type": "markdown",
   "id": "3a0c3c03",
   "metadata": {},
   "source": [
    "## diameter analysis\n",
    "clearly related to the giant component"
   ]
  },
  {
   "cell_type": "code",
   "execution_count": null,
   "id": "d1938a85",
   "metadata": {},
   "outputs": [],
   "source": [
    "%%time\n",
    "diameter_giant_comp = []\n",
    "\n",
    "for t in tqdm(range(2, 60), desc='loop'):\n",
    "    \n",
    "    comps = list(nx.connected_components(G.time_slice(t)))\n",
    "    G_giant_comp = G.subgraph(comps[0])\n",
    "    diameter_giant_comp.append(approximation.diameter(G_giant_comp))"
   ]
  },
  {
   "cell_type": "code",
   "execution_count": null,
   "id": "7971c8d0",
   "metadata": {},
   "outputs": [],
   "source": [
    "# Plot of the diameter of giant component\n",
    "\n",
    "plt.scatter(np.linspace(2, 59, 58), diameter_giant_comp)\n",
    "plt.xlabel('timestamp')\n",
    "plt.ylabel('diameter of the giant component')\n",
    "plt.tight_layout()\n",
    "#plt.savefig('diameter_giant_comp_relation.png')\n",
    "plt.show()"
   ]
  },
  {
   "cell_type": "markdown",
   "id": "6f310689",
   "metadata": {},
   "source": [
    "## number of connected components"
   ]
  },
  {
   "cell_type": "code",
   "execution_count": null,
   "id": "8212fb25",
   "metadata": {},
   "outputs": [],
   "source": [
    "%%time\n",
    "\n",
    "components_list = []\n",
    "\n",
    "for t in tqdm(range(2, 60), desc='loop'): \n",
    "    components_list.append(nx.number_connected_components(G.time_slice(t)))"
   ]
  },
  {
   "cell_type": "code",
   "execution_count": null,
   "id": "01bcab81",
   "metadata": {},
   "outputs": [],
   "source": [
    "# Plot of the number of connected components\n",
    "\n",
    "plt.errorbar(np.linspace(2, 59, 58), components_list, linestyle='--', marker='o')\n",
    "plt.xlabel('timestamp', fontsize=13)\n",
    "plt.ylabel('# of connected components', fontsize=15)\n",
    "plt.tight_layout()\n",
    "#plt.savefig('connected_components_relation.png')\n",
    "plt.show()"
   ]
  }
 ],
 "metadata": {
  "kernelspec": {
   "display_name": "Python 3 (ipykernel)",
   "language": "python",
   "name": "python3"
  },
  "language_info": {
   "codemirror_mode": {
    "name": "ipython",
    "version": 3
   },
   "file_extension": ".py",
   "mimetype": "text/x-python",
   "name": "python",
   "nbconvert_exporter": "python",
   "pygments_lexer": "ipython3",
   "version": "3.9.13"
  }
 },
 "nbformat": 4,
 "nbformat_minor": 5
}
