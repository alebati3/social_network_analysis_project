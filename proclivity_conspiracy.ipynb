{
 "cells": [
  {
   "cell_type": "code",
   "execution_count": 1,
   "id": "11f5dc91",
   "metadata": {},
   "outputs": [],
   "source": [
    "import matplotlib.pyplot as plt\n",
    "import networkx as nx\n",
    "import csv\n",
    "import random\n",
    "from numpy import array\n",
    "import plot_graph as pltg\n",
    "from prone import *"
   ]
  },
  {
   "cell_type": "markdown",
   "id": "5734f2ec",
   "metadata": {},
   "source": [
    "# Proclivity measure in the subreddit r/conspiracy"
   ]
  },
  {
   "cell_type": "code",
   "execution_count": 2,
   "id": "c8f7870c",
   "metadata": {},
   "outputs": [],
   "source": [
    "## def of the function to compute proclivity and to print a table of the measures\n",
    "def mesure_and_table(G, possible_dict_values, attributes):\n",
    "    N=len(attributes)\n",
    "    table1=np.zeros((N,N))\n",
    "    table2=np.zeros((N,N))\n",
    "    i=0\n",
    "    for attribute in attributes:\n",
    "        j=0\n",
    "        for attribute2 in attributes:\n",
    "            res = get_all(G,possible_dict_values, attribute, attribute2, print_mixing = False, normalized= True )\n",
    "            table1[i][j]=res['ProNe_2']\n",
    "            table2[i][j]=res['ProNe_3']\n",
    "            j+=1\n",
    "        i+=1\n",
    "    print('ProNe_2')\n",
    "    print(attributes)\n",
    "    print(table1)\n",
    "    print('ProNe_3')\n",
    "    print(attributes)\n",
    "    print(table2)"
   ]
  },
  {
   "cell_type": "code",
   "execution_count": 3,
   "id": "6d16acd9",
   "metadata": {},
   "outputs": [],
   "source": [
    "## Function to make a plot of the graph\n",
    "def plot_with_attr(G, attribute_dict, name=None, pos = None, print_pos=False):\n",
    "\n",
    "    pltg.draw_attributed_graph(G,attribute_dict, pos, print_pos, filename= name)"
   ]
  },
  {
   "cell_type": "code",
   "execution_count": 4,
   "id": "20247226",
   "metadata": {},
   "outputs": [],
   "source": [
    "## function to make a dictionary of the abttributes\n",
    "def dictionary_attr(attributes):\n",
    "\n",
    "# topic = -1 indicates that the user doesn't talk about that specif topic\n",
    "# topic = 1 indicates that the user talks about that specif topic\n",
    "\n",
    "    covid=-1\n",
    "    chem=-1\n",
    "    fiveg=-1\n",
    "    flat_earth=-1\n",
    "    alien=-1\n",
    "    religion=-1\n",
    "    neutral=-1\n",
    "\n",
    "# neutral = -1 indicates that the user talks about at least 1 conspiracy\n",
    "# neutral = 1 indicates that the user doesn't talk about any conspiracy\n",
    "\n",
    "    if 'covid' in attributes:\n",
    "        covid=1\n",
    "    if 'chem' in attributes:\n",
    "        chem=1\n",
    "    if '5g' in attributes:\n",
    "        fiveg=1\n",
    "    if 'flat_earth' in attributes:\n",
    "        flat_earth=1\n",
    "    if 'alien' in attributes:\n",
    "        alien=1\n",
    "    if 'religion' in attributes:\n",
    "        religion=1\n",
    "    if 'neutral' in attributes:\n",
    "        neutral=1\n",
    "\n",
    "    attributes_dict= dict({'covid': covid, 'chem': chem,'fiveg': fiveg,'alien': alien,'religion': religion, 'flat_earth':flat_earth, 'neutral': neutral})\n",
    "\n",
    "    return attributes_dict\n"
   ]
  },
  {
   "cell_type": "code",
   "execution_count": 5,
   "id": "d60b910e",
   "metadata": {},
   "outputs": [],
   "source": [
    "##function to read the network (l[0]-> l[1] edge, l[3:] attributes of the l[0])\n",
    "def read_net(filename):\n",
    "    g = nx.Graph()\n",
    "    with open(filename) as f:\n",
    "        f = csv.reader(f)\n",
    "        for l in f:\n",
    "            g.add_edge(l[0], l[1])\n",
    "    return g\n",
    "\n",
    "def attributes_nodes(filename,g):\n",
    "    with open(filename) as f:\n",
    "        f = csv.reader(f)\n",
    "        for l in f:\n",
    "            attributes = [attr.strip() for attr in l[1:]]\n",
    "            attributes_dict = dictionary_attr(attributes)\n",
    "            g.nodes[l[0]].update(attributes_dict)\n",
    "    return g"
   ]
  },
  {
   "cell_type": "code",
   "execution_count": 6,
   "id": "aee82a54",
   "metadata": {},
   "outputs": [],
   "source": [
    "def procliv_consp(g,possible_dict_values):\n",
    "    print(\"evaluating proclivity of conspiracies\")\n",
    "    conspiracies=['covid','neutral','chem','fiveg','religion','flat_earth','alien']\n",
    "    mesure_and_table(g,possible_dict_values,conspiracies)\n",
    "    return"
   ]
  },
  {
   "cell_type": "code",
   "execution_count": 7,
   "id": "04c91c26",
   "metadata": {},
   "outputs": [],
   "source": [
    "#read the network\n",
    "g = read_net(r\"C:\\Users\\ludoi\\OneDrive\\Desktop\\sna-2023-2023_batignani_fattorini_iannello\\data_collection\\conspiracy_2m_final_2.csv\")\n",
    "\n",
    "g=attributes_nodes(r\"C:\\Users\\ludoi\\OneDrive\\Desktop\\sna-2023-2023_batignani_fattorini_iannello\\data_collection\\conspiracy_2m_attr_2.csv\",g)\n",
    "\n",
    "#remove the bot\n",
    "g.remove_node(\"rConBot\")\n",
    "#remove the selfloops\n",
    "g.remove_edges_from(nx.selfloop_edges(g))\n",
    "#remove isolated nodes\n",
    "g.remove_nodes_from(list(nx.isolates(g)))\n",
    "\n",
    "comps = list(nx.connected_components(g))\n",
    "g=g.subgraph(comps[0])\n",
    "\n",
    "possible_dict_values= dict({'covid': [-1,1], 'neutral': [-1,1],'chem': [-1,1],'fiveg': [-1,1],'religion': [-1,1], 'flat_earth':[-1,1],'alien': [-1,1]})\n"
   ]
  },
  {
   "cell_type": "markdown",
   "id": "ce1d0a4b",
   "metadata": {},
   "source": [
    "Proclivity measures"
   ]
  },
  {
   "cell_type": "code",
   "execution_count": 10,
   "id": "1081efee",
   "metadata": {},
   "outputs": [
    {
     "name": "stdout",
     "output_type": "stream",
     "text": [
      "evaluating proclivity of conspiracies\n",
      "ProNe_2\n",
      "['covid', 'neutral', 'chem', 'fiveg', 'religion', 'flat_earth', 'alien']\n",
      "[[ 0.05669901  0.06554324 -0.00640292 -0.00724104 -0.00376869 -0.00474021\n",
      "  -0.00363113]\n",
      " [ 0.06554324  0.08222527 -0.01035103 -0.01000243 -0.00634162 -0.01136766\n",
      "  -0.0061723 ]\n",
      " [-0.00640292 -0.01035103  0.00335506  0.00102539  0.00194394  0.0024695\n",
      "   0.00153973]\n",
      " [-0.00724104 -0.01000243  0.00102539  0.00126053  0.00059181  0.00104785\n",
      "   0.00021147]\n",
      " [-0.00376869 -0.00634162  0.00194394  0.00059181  0.00288078  0.00283844\n",
      "   0.00156269]\n",
      " [-0.00474021 -0.01136766  0.0024695   0.00104785  0.00283844  0.01269486\n",
      "   0.00312122]\n",
      " [-0.00363113 -0.0061723   0.00153973  0.00021147  0.00156269  0.00312122\n",
      "   0.00203497]]\n",
      "ProNe_3\n",
      "['covid', 'neutral', 'chem', 'fiveg', 'religion', 'flat_earth', 'alien']\n",
      "[[ 0.07035267  0.07809307 -0.00924548 -0.01040106 -0.00553538 -0.006062\n",
      "  -0.00533005]\n",
      " [ 0.07809307  0.0952612  -0.01384029 -0.0132656  -0.00860456 -0.01394286\n",
      "  -0.00837058]\n",
      " [-0.00924548 -0.01384029  0.00551216  0.00171925  0.00328129  0.00339586\n",
      "   0.00262217]\n",
      " [-0.01040106 -0.0132656   0.00171925  0.00209049  0.00102163  0.00144246\n",
      "   0.00036853]\n",
      " [-0.00553538 -0.00860456  0.00328129  0.00102163  0.00473649  0.00391005\n",
      "   0.00267514]\n",
      " [-0.006062   -0.01394286  0.00339586  0.00144246  0.00391005  0.01592534\n",
      "   0.00429231]\n",
      " [-0.00533005 -0.00837058  0.00262217  0.00036853  0.00267514  0.00429231\n",
      "   0.00342702]]\n"
     ]
    }
   ],
   "source": [
    "procliv_consp(g,possible_dict_values)   \n",
    "#plot_with_attr(g,possible_dict_values, pos = None, print_pos=False)"
   ]
  },
  {
   "cell_type": "markdown",
   "id": "b95bb542",
   "metadata": {},
   "source": [
    "### Newman's assortativity"
   ]
  },
  {
   "cell_type": "code",
   "execution_count": 9,
   "id": "c44d0caa",
   "metadata": {},
   "outputs": [
    {
     "name": "stdout",
     "output_type": "stream",
     "text": [
      "covid assort. 0.09496355627915865\n",
      "fiveg assort. 0.00646399285868209\n",
      "chem assort. 0.018584735822421615\n",
      "religion assort. 0.0258264460745355\n",
      "alien assort. 0.0194368346959703\n",
      "neutral assort. 0.11435408227435612\n",
      "flat assort. 0.02147411412307676\n"
     ]
    }
   ],
   "source": [
    "print('covid assort.',nx.attribute_assortativity_coefficient(g,\"covid\"))\n",
    "print('fiveg assort.',nx.attribute_assortativity_coefficient(g,\"fiveg\"))\n",
    "print('chem assort.',nx.attribute_assortativity_coefficient(g,\"chem\"))\n",
    "print('religion assort.',nx.attribute_assortativity_coefficient(g,\"religion\"))\n",
    "print('alien assort.',nx.attribute_assortativity_coefficient(g,\"alien\"))\n",
    "print('neutral assort.',nx.attribute_assortativity_coefficient(g,\"neutral\"))\n",
    "print('flat assort.',nx.attribute_assortativity_coefficient(g,\"flat_earth\"))"
   ]
  }
 ],
 "metadata": {
  "kernelspec": {
   "display_name": "Python 3 (ipykernel)",
   "language": "python",
   "name": "python3"
  },
  "language_info": {
   "codemirror_mode": {
    "name": "ipython",
    "version": 3
   },
   "file_extension": ".py",
   "mimetype": "text/x-python",
   "name": "python",
   "nbconvert_exporter": "python",
   "pygments_lexer": "ipython3",
   "version": "3.8.17"
  }
 },
 "nbformat": 4,
 "nbformat_minor": 5
}
